{
 "cells": [
  {
   "cell_type": "code",
   "execution_count": 1,
   "metadata": {},
   "outputs": [],
   "source": [
    "import pandas as pd\n",
    "from sklearn.metrics import accuracy_score, precision_score, recall_score\n",
    "import matplotlib.pyplot as plt"
   ]
  },
  {
   "cell_type": "markdown",
   "metadata": {},
   "source": [
    "## model 1 (vanilla, no fine-tuning)"
   ]
  },
  {
   "cell_type": "markdown",
   "metadata": {},
   "source": [
    "runtime = 0:57"
   ]
  },
  {
   "cell_type": "code",
   "execution_count": 2,
   "metadata": {},
   "outputs": [],
   "source": [
    "df1 = pd.read_csv('data/pred1.csv', index_col=0)"
   ]
  },
  {
   "cell_type": "code",
   "execution_count": 3,
   "metadata": {},
   "outputs": [
    {
     "name": "stdout",
     "output_type": "stream",
     "text": [
      "Accuracy: 0.7267950963222417\n",
      "Precision: 0.7710219922380336\n",
      "Recall: 0.8153214774281806\n"
     ]
    }
   ],
   "source": [
    "print(\"Accuracy:\", accuracy_score(df1['actual'],df1['0']))\n",
    "print(\"Precision:\", precision_score(df1['actual'],df1['0']))\n",
    "print(\"Recall:\", recall_score(df1['actual'],df1['0']))"
   ]
  },
  {
   "cell_type": "markdown",
   "metadata": {},
   "source": [
    "## model 2 (vanilla w/ fine-tuning)"
   ]
  },
  {
   "cell_type": "markdown",
   "metadata": {},
   "source": [
    "runtime = 6:02"
   ]
  },
  {
   "cell_type": "code",
   "execution_count": 4,
   "metadata": {},
   "outputs": [],
   "source": [
    "df2 = pd.read_csv('data/pred2.csv', index_col=0)"
   ]
  },
  {
   "cell_type": "code",
   "execution_count": 5,
   "metadata": {},
   "outputs": [
    {
     "name": "stdout",
     "output_type": "stream",
     "text": [
      "Accuracy: 0.7390542907180385\n",
      "Precision: 0.776500638569604\n",
      "Recall: 0.8317373461012312\n"
     ]
    }
   ],
   "source": [
    "print(\"Accuracy:\", accuracy_score(df2['actual'],df2['0']))\n",
    "print(\"Precision:\", precision_score(df2['actual'],df2['0']))\n",
    "print(\"Recall:\", recall_score(df2['actual'],df2['0']))"
   ]
  },
  {
   "cell_type": "markdown",
   "metadata": {},
   "source": [
    "## model 3 (tBERT)"
   ]
  },
  {
   "cell_type": "markdown",
   "metadata": {},
   "source": [
    "runtime = 8:56"
   ]
  },
  {
   "cell_type": "code",
   "execution_count": 6,
   "metadata": {},
   "outputs": [],
   "source": [
    "df3 = pd.read_csv('data/pred3.csv', index_col=0)"
   ]
  },
  {
   "cell_type": "code",
   "execution_count": 8,
   "metadata": {},
   "outputs": [
    {
     "name": "stdout",
     "output_type": "stream",
     "text": [
      "Accuracy: 0.7644483362521891\n",
      "Precision: 0.7924050632911392\n",
      "Recall: 0.8563611491108071\n"
     ]
    }
   ],
   "source": [
    "print(\"Accuracy:\", accuracy_score(df3['actual'],df3['0']))\n",
    "print(\"Precision:\", precision_score(df3['actual'],df3['0']))\n",
    "print(\"Recall:\", recall_score(df3['actual'],df3['0']))"
   ]
  },
  {
   "cell_type": "markdown",
   "metadata": {},
   "source": [
    "## model 3 loss graphs"
   ]
  },
  {
   "cell_type": "code",
   "execution_count": 36,
   "metadata": {},
   "outputs": [],
   "source": [
    "def smooth_avg(loss, inv=50):\n",
    "    i=0\n",
    "    j=inv\n",
    "    avgs=[loss.at[0,'loss']]\n",
    "    while j<len(loss):\n",
    "        j = min(j+inv, len(loss))\n",
    "        avgs.append(loss['loss'].iloc[i:j].mean())\n",
    "    return avgs"
   ]
  },
  {
   "cell_type": "code",
   "execution_count": 37,
   "metadata": {},
   "outputs": [],
   "source": [
    "loss1 = pd.read_csv(\"data/loss_adam.csv\", names=['iter','loss'], header=0)\n",
    "loss1_avg = pd.DataFrame(smooth_avg(loss1, inv=4)).reset_index()"
   ]
  },
  {
   "cell_type": "code",
   "execution_count": 38,
   "metadata": {},
   "outputs": [],
   "source": [
    "loss2 = pd.read_csv(\"data/loss_adagrad.csv\", names=['iter','loss'], header=0)\n",
    "loss2_avg = pd.DataFrame(smooth_avg(loss2, inv=4)).reset_index()"
   ]
  },
  {
   "cell_type": "code",
   "execution_count": 39,
   "metadata": {},
   "outputs": [],
   "source": [
    "loss3 = pd.read_csv(\"data/loss_sgd.csv\", names=['iter','loss'], header=0)\n",
    "loss3_avg = pd.DataFrame(smooth_avg(loss3, inv=4)).reset_index()"
   ]
  },
  {
   "cell_type": "code",
   "execution_count": 40,
   "metadata": {},
   "outputs": [
    {
     "data": {
      "image/png": "[encoded data removed]",
      "text/plain": [
       "<Figure size 432x288 with 1 Axes>"
      ]
     },
     "metadata": {
      "needs_background": "light"
     },
     "output_type": "display_data"
    }
   ],
   "source": [
    "fig, ax = plt.subplots()\n",
    "ax.plot(loss2_avg['index'],loss3_avg[0], color='orange', label=\"SGD\")\n",
    "ax.plot(loss2_avg['index'],loss2_avg[0], color='blue', label=\"Adagrad\")\n",
    "ax.plot(loss1_avg['index'],loss1_avg[0], color='green', label=\"Adam\")\n",
    "ax.legend()\n",
    "plt.xlabel('step')\n",
    "plt.ylabel('loss')\n",
    "plt.show()"
   ]
  },
  {
   "cell_type": "code",
   "execution_count": null,
   "metadata": {},
   "outputs": [],
   "source": []
  }
 ],
 "metadata": {
  "kernelspec": {
   "display_name": "Python [conda env:ml] *",
   "language": "python",
   "name": "conda-env-ml-py"
  },
  "language_info": {
   "codemirror_mode": {
    "name": "ipython",
    "version": 3
   },
   "file_extension": ".py",
   "mimetype": "text/x-python",
   "name": "python",
   "nbconvert_exporter": "python",
   "pygments_lexer": "ipython3",
   "version": "3.8.5"
  }
 },
 "nbformat": 4,
 "nbformat_minor": 4
}
