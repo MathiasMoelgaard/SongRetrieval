{
 "cells": [
  {
   "cell_type": "code",
   "execution_count": 1,
   "metadata": {},
   "outputs": [],
   "source": [
    "from retrieval import retrivalModel, binary_precision\n",
    "import random\n",
    "import matplotlib.pyplot as plt\n",
    "import pandas as pd"
   ]
  },
  {
   "cell_type": "code",
   "execution_count": 3,
   "metadata": {
    "scrolled": true
   },
   "outputs": [
    {
     "name": "stdout",
     "output_type": "stream",
     "text": [
      "3.068508493859523\n",
      "[2.0, 4.464019007617765, 2.91, 0.05, 6.789624636300626, 0.7, 0.06, 0.46, 1.8851295165413529, 2]\n",
      "5.79696497455537\n",
      "[2.0, 10.845303337669531, 2.91, 8.34677336136227, 15.44130176052256, 0.3499999999999999, 0.06, 3.4790734934611542, 1.8851295165413529, 2.0]\n",
      "0.0004838891108592872\n",
      "[2.0, 14.907951647788067, 4.655685441591312, 9.265918200678662, 16.294858498077055, 0.3499999999999999, 0.054, 5.193787199949757, 1.8851295165413529, 2.0]\n",
      "0.0004838891108592872\n",
      "[2.0, 14.558186149644365, 4.655685441591312, 9.265918200678662, 16.294858498077055, 0.3499999999999999, 0.054, 5.193787199949757, 1.8851295165413529, 2.0]\n",
      "3.068508493859523\n",
      "[2.0, 15.117595780012508, 4.131398963786941, 3.8528713541560418, 15.956879487712657, 0.31499999999999995, 0.021599999999999994, 7.2694060887399985, 1.8851295165413529, 2.0]\n",
      "1.0\n",
      "[2.0, 13.805836202011257, 4.131398963786941, 3.421281368669693, 15.956879487712657, 0.15749999999999997, 0.012959999999999996, 5.226297944140716, 1.8851295165413529, 1.8291144030141129]\n"
     ]
    }
   ],
   "source": [
    "test = retrivalModel('data/full_final_layer_lda.csv', changeParams = [2, 8, 2, 3, 0, 0, 1, .8, .8, 1]) # set to None if \n",
    "test.addFeature((\"lyrics_clean\", 1), \"text\")\n",
    "test.createInverseIndex()\n",
    "randomlist = []\n",
    "for i in range(0,10):\n",
    "    n = random.randint(0,300)/100\n",
    "    randomlist.append(n)\n",
    "error, bestParams = test.experimentalDescent([\"tag\"] , randomlist)\n"
   ]
  },
  {
   "cell_type": "code",
   "execution_count": null,
   "metadata": {},
   "outputs": [],
   "source": [
    "kmean = pd.read_csv(\"data/kmeans_groups.csv\")\n",
    "binary = pd.read_csv(\"data/binary_data.csv\")\n",
    "data = pd.read_csv('data/full_final_layer_lda.csv')\n",
    "print(data.shape)"
   ]
  },
  {
   "cell_type": "code",
   "execution_count": null,
   "metadata": {},
   "outputs": [],
   "source": [
    "result = []\n",
    "for i in range(100):\n",
    "    test.changeParams[5] = i/100\n",
    "    result.append(binary_precision(25, test)[0])"
   ]
  },
  {
   "cell_type": "code",
   "execution_count": null,
   "metadata": {},
   "outputs": [],
   "source": [
    "plt.plot(range(0,100), result,'b-', label='bertStrength')"
   ]
  },
  {
   "cell_type": "code",
   "execution_count": null,
   "metadata": {},
   "outputs": [],
   "source": [
    "import numpy as np\n",
    "avgResult = []\n",
    "for i in range(len(result)-10):\n",
    "    avgResult.append(np.mean(result[i:i+10]))\n",
    "avgResultMax = []\n",
    "for i in range(len(result)-20):\n",
    "    avgResultMax.append(np.mean(result[i:i+20]))\n",
    "fig, ax1 = plt.subplots(figsize=(20, 10))\n",
    "fs = 20\n",
    "color = 'green'\n",
    "avgResultMax.reverse()\n",
    "ax1.set_xlabel('BERT Strength', fontsize=fs)\n",
    "ax1.set_ylabel('Precision', fontsize=fs)\n",
    "plt.plot(range(0,30), avgResultMax[:30],'b-', label='bertStrength')    "
   ]
  },
  {
   "cell_type": "code",
   "execution_count": null,
   "metadata": {
    "scrolled": true
   },
   "outputs": [],
   "source": [
    "num = 429\n",
    "song = test.getSource().iloc[num]\n",
    "targetTag = binary.loc[num, 'tag']\n",
    "#print(\"For the song {} by, {}\".format(song[\"title\"], song[\"artist\"]))\n",
    "#print('grabs the top related songs based on the top words determined by tf-idf\\n')\n",
    "print(song[\"lyrics_clean\"])\n",
    "keyWords = [s for n,s in test.queryDataPre(song)]\n",
    "print('top words: {}\\n'.format(keyWords))\n",
    "print('top words: {}\\n'.format([test.extend(x) for x in keyWords]))\n",
    "result = 0\n",
    "count = 0\n",
    "#print(num)\n",
    "for post in test.query(song):\n",
    "    #print(post.docid)\n",
    "    if binary.loc[post.docid, 'tag'] == targetTag:\n",
    "        result +=1\n",
    "    querySong = test.getSource().iloc[post.docid]\n",
    "    #print('song name:{}\\nArtist:{}\\n'.format(querySong[\"title\"], querySong[\"artist\"]))\n",
    "    count += 1\n",
    "#print(result/count)"
   ]
  },
  {
   "cell_type": "code",
   "execution_count": 4,
   "metadata": {
    "scrolled": true
   },
   "outputs": [
    {
     "data": {
      "image/png": "[encoded data removed]",
      "text/plain": [
       "<Figure size 432x288 with 1 Axes>"
      ]
     },
     "metadata": {
      "needs_background": "light"
     },
     "output_type": "display_data"
    }
   ],
   "source": [
    "plt.plot(error,'b-',);"
   ]
  },
  {
   "cell_type": "code",
   "execution_count": null,
   "metadata": {},
   "outputs": [],
   "source": [
    "errors = 0\n",
    "for i in range(200):\n",
    "    song = test.getSource().iloc[-i]\n",
    "    query = test.query(song)\n",
    "    errors += test.categoricalEntropy(song, query, [\"0.1\" ,\"1.1\" , \"2.1\" , \"3.1\", \"4.1\", \"5.1\", \"6.1\"])\n",
    "print(errors/200)"
   ]
  }
 ],
 "metadata": {
  "kernelspec": {
   "display_name": "Python 3",
   "language": "python",
   "name": "python3"
  },
  "language_info": {
   "codemirror_mode": {
    "name": "ipython",
    "version": 3
   },
   "file_extension": ".py",
   "mimetype": "text/x-python",
   "name": "python",
   "nbconvert_exporter": "python",
   "pygments_lexer": "ipython3",
   "version": "3.8.5"
  }
 },
 "nbformat": 4,
 "nbformat_minor": 4
}
